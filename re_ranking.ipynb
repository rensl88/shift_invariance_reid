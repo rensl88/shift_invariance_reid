{
  "nbformat": 4,
  "nbformat_minor": 0,
  "metadata": {
    "colab": {
      "name": "re_ranking.ipynb",
      "provenance": [],
      "collapsed_sections": [],
      "machine_shape": "hm"
    },
    "kernelspec": {
      "name": "python3",
      "display_name": "Python 3"
    },
    "accelerator": "GPU"
  },
  "cells": [
    {
      "cell_type": "markdown",
      "metadata": {
        "id": "UB5nadZuSvoK",
        "colab_type": "text"
      },
      "source": [
        "# Re-ranking\n",
        "This notebook includes the code to perform the ranking. "
      ]
    },
    {
      "cell_type": "code",
      "metadata": {
        "id": "jRhoEdV5Tia4",
        "colab_type": "code",
        "colab": {}
      },
      "source": [
        "import torch\n",
        "import torch.nn as nn\n",
        "import torch.optim as optim\n",
        "from torch.optim import lr_scheduler\n",
        "from torch.autograd import Variable\n",
        "import torch.backends.cudnn as cudnn\n",
        "import numpy as np\n",
        "import torchvision\n",
        "from torchvision import datasets, models, transforms\n",
        "import time\n",
        "import os\n",
        "import scipy.io\n",
        "import yaml\n",
        "import math\n",
        "\n",
        "from google.colab import drive\n",
        "import h5py\n",
        "import os\n",
        "import pandas as pd\n",
        "from google.colab import drive\n",
        "import cv2\n",
        "import datetime as dt\n",
        "from PIL import Image\n",
        "import numpy as np\n",
        "import sys\n",
        "import logging\n",
        "import time\n",
        "import itertools\n",
        "import pickle"
      ],
      "execution_count": 0,
      "outputs": []
    },
    {
      "cell_type": "code",
      "metadata": {
        "id": "CycYGY5oEVLz",
        "colab_type": "code",
        "outputId": "d31d5775-1e3d-4fff-e2b1-9252369159c9",
        "colab": {
          "base_uri": "https://localhost:8080/",
          "height": 122
        }
      },
      "source": [
        "drive.mount('/content/drive', force_remount=True)"
      ],
      "execution_count": 0,
      "outputs": [
        {
          "output_type": "stream",
          "text": [
            "Go to this URL in a browser: https://accounts.google.com/o/oauth2/auth?client_id=947318989803-6bn6qk8qdgf4n4g3pfee6491hc0brc4i.apps.googleusercontent.com&redirect_uri=urn%3aietf%3awg%3aoauth%3a2.0%3aoob&response_type=code&scope=email%20https%3a%2f%2fwww.googleapis.com%2fauth%2fdocs.test%20https%3a%2f%2fwww.googleapis.com%2fauth%2fdrive%20https%3a%2f%2fwww.googleapis.com%2fauth%2fdrive.photos.readonly%20https%3a%2f%2fwww.googleapis.com%2fauth%2fpeopleapi.readonly\n",
            "\n",
            "Enter your authorization code:\n",
            "··········\n",
            "Mounted at /content/drive\n"
          ],
          "name": "stdout"
        }
      ]
    },
    {
      "cell_type": "code",
      "metadata": {
        "id": "BfOU-6HzE0nc",
        "colab_type": "code",
        "colab": {}
      },
      "source": [
        "os.chdir(\"/content/drive/My Drive/Thesis re-id/triplet-reid-master\")"
      ],
      "execution_count": 0,
      "outputs": []
    },
    {
      "cell_type": "code",
      "metadata": {
        "id": "61eaREIKUCAi",
        "colab_type": "code",
        "colab": {}
      },
      "source": [
        "from own_code.backbone_normal import EmbedNetwork\n",
        "from utils import pdist_np as pdist\n"
      ],
      "execution_count": 0,
      "outputs": []
    },
    {
      "cell_type": "markdown",
      "metadata": {
        "id": "PTUaLsTcw7dT",
        "colab_type": "text"
      },
      "source": [
        "## Functions"
      ]
    },
    {
      "cell_type": "markdown",
      "metadata": {
        "id": "0Yuj7hvRxLNV",
        "colab_type": "text"
      },
      "source": [
        "### re-ranking functions"
      ]
    },
    {
      "cell_type": "code",
      "metadata": {
        "id": "3O_334Ecw_dL",
        "colab_type": "code",
        "colab": {}
      },
      "source": [
        "def k_reciprocal_neigh( initial_rank, i, k1):\n",
        "    forward_k_neigh_index = initial_rank[i,:k1+1]\n",
        "    backward_k_neigh_index = initial_rank[forward_k_neigh_index,:k1+1]\n",
        "    fi = np.where(backward_k_neigh_index==i)[0]\n",
        "    return forward_k_neigh_index[fi]\n",
        "\n",
        "def re_ranking(q_g_dist, q_q_dist, g_g_dist, k1=20, k2=6, lambda_value=0.3):\n",
        "    # The following naming, e.g. gallery_num, is different from outer scope.\n",
        "    # Don't care about it.\n",
        "    original_dist = np.concatenate(\n",
        "      [np.concatenate([q_q_dist, q_g_dist], axis=1),\n",
        "       np.concatenate([q_g_dist.T, g_g_dist], axis=1)],\n",
        "      axis=0)\n",
        "    #original_dist = 2. - 2 * original_dist   # change the cosine similarity metric to euclidean similarity metric\n",
        "    original_dist = np.power(original_dist, 2).astype(np.float32)\n",
        "    original_dist = np.transpose(1. * original_dist/np.max(original_dist,axis = 0))\n",
        "    V = np.zeros_like(original_dist).astype(np.float32)\n",
        "    #initial_rank = np.argsort(original_dist).astype(np.int32)\n",
        "    # top K1+1\n",
        "    initial_rank = np.argpartition( original_dist, range(1,k1+1) )\n",
        "\n",
        "    query_num = q_g_dist.shape[0]\n",
        "    all_num = original_dist.shape[0]\n",
        "\n",
        "    for i in range(all_num):\n",
        "        # k-reciprocal neighbors\n",
        "        k_reciprocal_index = k_reciprocal_neigh( initial_rank, i, k1)\n",
        "        k_reciprocal_expansion_index = k_reciprocal_index\n",
        "        for j in range(len(k_reciprocal_index)):\n",
        "            candidate = k_reciprocal_index[j]\n",
        "            candidate_k_reciprocal_index = k_reciprocal_neigh( initial_rank, candidate, int(np.around(k1/2)))\n",
        "            if len(np.intersect1d(candidate_k_reciprocal_index,k_reciprocal_index))> 2./3*len(candidate_k_reciprocal_index):\n",
        "                k_reciprocal_expansion_index = np.append(k_reciprocal_expansion_index,candidate_k_reciprocal_index)\n",
        "\n",
        "        k_reciprocal_expansion_index = np.unique(k_reciprocal_expansion_index)\n",
        "        weight = np.exp(-original_dist[i,k_reciprocal_expansion_index])\n",
        "        V[i,k_reciprocal_expansion_index] = 1.*weight/np.sum(weight)\n",
        "\n",
        "    original_dist = original_dist[:query_num,]\n",
        "    if k2 != 1:\n",
        "        V_qe = np.zeros_like(V,dtype=np.float32)\n",
        "        for i in range(all_num):\n",
        "            V_qe[i,:] = np.mean(V[initial_rank[i,:k2],:],axis=0)\n",
        "        V = V_qe\n",
        "        del V_qe\n",
        "    del initial_rank\n",
        "    invIndex = []\n",
        "    for i in range(all_num):\n",
        "        invIndex.append(np.where(V[:,i] != 0)[0])\n",
        "\n",
        "    jaccard_dist = np.zeros_like(original_dist,dtype = np.float32)\n",
        "\n",
        "    for i in range(query_num):\n",
        "        temp_min = np.zeros(shape=[1,all_num],dtype=np.float32)\n",
        "        indNonZero = np.where(V[i,:] != 0)[0]\n",
        "        indImages = []\n",
        "        indImages = [invIndex[ind] for ind in indNonZero]\n",
        "        for j in range(len(indNonZero)):\n",
        "            temp_min[0,indImages[j]] = temp_min[0,indImages[j]]+ np.minimum(V[i,indNonZero[j]],V[indImages[j],indNonZero[j]])\n",
        "        jaccard_dist[i] = 1-temp_min/(2.-temp_min)\n",
        "\n",
        "    final_dist = jaccard_dist*(1-lambda_value) + original_dist*lambda_value\n",
        "    del original_dist\n",
        "    del V\n",
        "    del jaccard_dist\n",
        "    final_dist = final_dist[:query_num,query_num:]\n",
        "    return final_dist"
      ],
      "execution_count": 0,
      "outputs": []
    },
    {
      "cell_type": "code",
      "metadata": {
        "id": "CaZMHXQeyowl",
        "colab_type": "code",
        "colab": {}
      },
      "source": [
        "def evaluate(score,ql,qc,gl,gc):\n",
        "    index = np.argsort(score)  #from small to large\n",
        "    #index = index[::-1]\n",
        "    # good index\n",
        "    query_index = np.argwhere(gl==ql)\n",
        "    camera_index = np.argwhere(gc==qc)\n",
        "\n",
        "    good_index = np.setdiff1d(query_index, camera_index, assume_unique=True)\n",
        "    junk_index1 = np.argwhere(gl==-1)\n",
        "    junk_index2 = np.intersect1d(query_index, camera_index)\n",
        "    junk_index = np.append(junk_index2, junk_index1) #.flatten())\n",
        "    \n",
        "    CMC_tmp = compute_mAP(index, good_index, junk_index)\n",
        "    return CMC_tmp\n",
        "\n",
        "\n",
        "def compute_mAP(index, good_index, junk_index):\n",
        "    ap = 0\n",
        "    cmc = torch.IntTensor(len(index)).zero_()\n",
        "    if good_index.size==0:   # if empty\n",
        "        cmc[0] = -1\n",
        "        return ap,cmc\n",
        "\n",
        "    # remove junk_index\n",
        "    mask = np.in1d(index, junk_index, invert=True)\n",
        "    index = index[mask]\n",
        "\n",
        "    # find good_index index\n",
        "    ngood = len(good_index)\n",
        "    mask = np.in1d(index, good_index)\n",
        "    rows_good = np.argwhere(mask==True)\n",
        "    rows_good = rows_good.flatten()\n",
        "    \n",
        "    cmc[rows_good[0]:] = 1\n",
        "    for i in range(ngood):\n",
        "        d_recall = 1.0/ngood\n",
        "        precision = (i+1)*1.0/(rows_good[i]+1)\n",
        "        if rows_good[i]!=0:\n",
        "            old_precision = i*1.0/rows_good[i]\n",
        "        else:\n",
        "            old_precision=1.0\n",
        "        ap = ap + d_recall*(old_precision + precision)/2\n",
        "\n",
        "    return ap, cmc\n"
      ],
      "execution_count": 0,
      "outputs": []
    },
    {
      "cell_type": "code",
      "metadata": {
        "id": "eYsEjK9dAVHf",
        "colab_type": "code",
        "colab": {}
      },
      "source": [
        "def perform_rr(model_num):\n",
        "  print(\"loading in test and query images of model no. {}...\".format(model_num))\n",
        "  test_embs = \"./res/emb_test{}.pkl\".format(model_num)\n",
        "  query_embs = \"./res/emb_query{}.pkl\".format(model_num)\n",
        "  with open(test_embs, 'rb') as fr:\n",
        "        gallery_dict = pickle.load(fr)\n",
        "        emb_gallery, lb_ids_gallery, lb_cams_gallery = gallery_dict['embeddings'], gallery_dict['label_ids'], gallery_dict['label_cams']\n",
        "  with open(query_embs, 'rb') as fr:\n",
        "        query_dict = pickle.load(fr)\n",
        "        emb_query, lb_ids_query, lb_cams_query = query_dict['embeddings'], query_dict['label_ids'], query_dict['label_cams']\n",
        "  print(\"calculate distances...\")\n",
        "  q_g_dist = pdist(emb_query, emb_gallery)\n",
        "  q_q_dist = pdist(emb_query, emb_query)\n",
        "  g_g_dist = pdist(emb_gallery, emb_gallery)\n",
        "  print(\"distances calculated, start re_ranking...\")\n",
        "  since = time.time()\n",
        "  re_rank = re_ranking(q_g_dist, q_q_dist, g_g_dist)\n",
        "  time_elapsed = time.time() - since\n",
        "  print('Reranking complete in {:.0f}m {:.0f}s'.format(\n",
        "        time_elapsed // 60, time_elapsed % 60))\n",
        "  \n",
        "  CMC = torch.IntTensor(len(lb_ids_gallery)).zero_()\n",
        "  ap = 0.0\n",
        "  for i in range(len(lb_ids_query)):\n",
        "    ap_tmp, CMC_tmp = evaluate(re_rank[i,:], lb_ids_query[i], lb_cams_query[i], lb_ids_gallery, lb_cams_gallery)\n",
        "    if CMC_tmp[0]==-1:\n",
        "        continue\n",
        "    CMC = CMC + CMC_tmp\n",
        "    ap += ap_tmp\n",
        "    #print(i, CMC_tmp[0])\n",
        "  CMC = CMC.float()\n",
        "  CMC = CMC/len(lb_ids_query) #average CMC\n",
        "  mAP = ap/len(lb_ids_query)\n",
        "  print('top1:%f top5:%f top10:%f mAP:%f'%(CMC[0],CMC[4],CMC[9],mAP))\n",
        "  return(CMC[:20], mAP)"
      ],
      "execution_count": 0,
      "outputs": []
    },
    {
      "cell_type": "markdown",
      "metadata": {
        "id": "K5Ops8Trwy6V",
        "colab_type": "text"
      },
      "source": [
        "## Performing the actual re-ranking"
      ]
    },
    {
      "cell_type": "code",
      "metadata": {
        "id": "4ysb8VfVFOkK",
        "colab_type": "code",
        "outputId": "0db1804c-4dde-4a74-c6ab-de2bc01ecd6c",
        "colab": {
          "base_uri": "https://localhost:8080/",
          "height": 357
        }
      },
      "source": [
        "re_rank_m1 = perform_rr(model_num = 1)\n",
        "re_rank_m6 = perform_rr(model_num = 6)\n",
        "re_rank_m7 = perform_rr(model_num = 7)\n",
        "re_rank_m8 = perform_rr(model_num = 8)"
      ],
      "execution_count": 0,
      "outputs": [
        {
          "output_type": "stream",
          "text": [
            "loading in test and query images of model no. 1...\n",
            "calculate distances...\n",
            "distances calculated, start re_ranking...\n",
            "Reranking complete in 1m 15s\n",
            "top1:0.907957 top5:0.949822 top10:0.962292 mAP:0.864890\n",
            "loading in test and query images of model no. 6...\n",
            "calculate distances...\n",
            "distances calculated, start re_ranking...\n",
            "Reranking complete in 1m 15s\n",
            "top1:0.897268 top5:0.946853 top10:0.961401 mAP:0.854829\n",
            "loading in test and query images of model no. 7...\n",
            "calculate distances...\n",
            "distances calculated, start re_ranking...\n",
            "Reranking complete in 1m 15s\n",
            "top1:0.902019 top5:0.949228 top10:0.961105 mAP:0.856452\n",
            "loading in test and query images of model no. 8...\n",
            "calculate distances...\n",
            "distances calculated, start re_ranking...\n",
            "Reranking complete in 1m 14s\n",
            "top1:0.897862 top5:0.942993 top10:0.959620 mAP:0.850451\n"
          ],
          "name": "stdout"
        }
      ]
    }
  ]
}