{
  "nbformat": 4,
  "nbformat_minor": 0,
  "metadata": {
    "colab": {
      "name": "pytorch self_implementation - cmc ranking.ipynb",
      "provenance": [],
      "collapsed_sections": [
        "4K2_eKts75g4",
        "-EJgFosBl44B"
      ],
      "toc_visible": true
    },
    "kernelspec": {
      "name": "python3",
      "display_name": "Python 3"
    },
    "accelerator": "GPU"
  },
  "cells": [
    {
      "cell_type": "markdown",
      "metadata": {
        "id": "SSZU--6uXghq",
        "colab_type": "text"
      },
      "source": [
        "# Visualizing the CMC ranking\n",
        "Before using this notebook it is expected that models are trained and embeddings are created using the 'main_implementation.ipynb' notebook"
      ]
    },
    {
      "cell_type": "markdown",
      "metadata": {
        "id": "xtT96bD6YSy7",
        "colab_type": "text"
      },
      "source": [
        "## Set-up\n",
        "first, import packages"
      ]
    },
    {
      "cell_type": "code",
      "metadata": {
        "id": "WKuUOjVlQUUH",
        "colab_type": "code",
        "colab": {}
      },
      "source": [
        "# import packages\n",
        "import h5py\n",
        "import os\n",
        "import pandas as pd\n",
        "from google.colab import drive\n",
        "import cv2\n",
        "import datetime as dt\n",
        "from PIL import Image\n",
        "import numpy as np\n",
        "import sys\n",
        "import logging\n",
        "import time\n",
        "import itertools\n",
        "import torch\n",
        "import torch.nn as nn\n",
        "import torchvision\n",
        "from torch.utils.data import DataLoader\n",
        "import pickle\n",
        "from tqdm import tqdm"
      ],
      "execution_count": 0,
      "outputs": []
    },
    {
      "cell_type": "code",
      "metadata": {
        "id": "lpSN0g67YcyC",
        "colab_type": "code",
        "outputId": "17fc100b-4a03-4ce5-f459-fdaba88a5bcf",
        "colab": {
          "base_uri": "https://localhost:8080/",
          "height": 122
        }
      },
      "source": [
        "drive.mount('/content/drive', force_remount=True)"
      ],
      "execution_count": 0,
      "outputs": [
        {
          "output_type": "stream",
          "text": [
            "Go to this URL in a browser: https://accounts.google.com/o/oauth2/auth?client_id=947318989803-6bn6qk8qdgf4n4g3pfee6491hc0brc4i.apps.googleusercontent.com&redirect_uri=urn%3aietf%3awg%3aoauth%3a2.0%3aoob&response_type=code&scope=email%20https%3a%2f%2fwww.googleapis.com%2fauth%2fdocs.test%20https%3a%2f%2fwww.googleapis.com%2fauth%2fdrive%20https%3a%2f%2fwww.googleapis.com%2fauth%2fdrive.photos.readonly%20https%3a%2f%2fwww.googleapis.com%2fauth%2fpeopleapi.readonly\n",
            "\n",
            "Enter your authorization code:\n",
            "··········\n",
            "Mounted at /content/drive\n"
          ],
          "name": "stdout"
        }
      ]
    },
    {
      "cell_type": "code",
      "metadata": {
        "id": "58S4gB92Wya3",
        "colab_type": "code",
        "colab": {}
      },
      "source": [
        "os.chdir(\"/content/drive/My Drive/Thesis re-id/triplet-reid-master\")"
      ],
      "execution_count": 0,
      "outputs": []
    },
    {
      "cell_type": "code",
      "metadata": {
        "id": "2ZDOO3QS1xoZ",
        "colab_type": "code",
        "colab": {}
      },
      "source": [
        "# Loading local classes and functions\n",
        "from own_code.backbone_normal import EmbedNetwork\n",
        "from own_code.loss import TripletLoss\n",
        "from own_code.triplet_selector import BatchHardTripletSelector\n",
        "from own_code.batch_sampler import BatchSampler\n",
        "from own_code.Market1501 import Market1501\n",
        "from own_code.optimizer import AdamOptimWrapper\n",
        "#import the anti-aliased networks\n",
        "from models_lpf import *\n",
        "import models_lpf.resnet"
      ],
      "execution_count": 0,
      "outputs": []
    },
    {
      "cell_type": "markdown",
      "metadata": {
        "id": "_OGWz0dK1hYq",
        "colab_type": "text"
      },
      "source": [
        "## Evaluation function"
      ]
    },
    {
      "cell_type": "code",
      "metadata": {
        "id": "vwdlBg0T3pQQ",
        "colab_type": "code",
        "colab": {}
      },
      "source": [
        "from utils import pdist_np as pdist\n"
      ],
      "execution_count": 0,
      "outputs": []
    },
    {
      "cell_type": "code",
      "metadata": {
        "id": "0ooSi6py4LGh",
        "colab_type": "code",
        "colab": {}
      },
      "source": [
        "def evaluate(test_embs, query_embs, cmc_rank):\n",
        "    ## logging\n",
        "    FORMAT = '%(levelname)s %(filename)s:%(lineno)d: %(message)s'\n",
        "    logging.basicConfig(level=logging.INFO, format=FORMAT, stream=sys.stdout)\n",
        "    logger = logging.getLogger(__name__)\n",
        "\n",
        "    ## load embeddings\n",
        "    logger.info('loading gallery embeddings')\n",
        "    with open(test_embs, 'rb') as fr:\n",
        "        gallery_dict = pickle.load(fr)\n",
        "        emb_gallery, lb_ids_gallery, lb_cams_gallery = gallery_dict['embeddings'], gallery_dict['label_ids'], gallery_dict['label_cams']\n",
        "    logger.info('loading query embeddings')\n",
        "    with open(query_embs, 'rb') as fr:\n",
        "        query_dict = pickle.load(fr)\n",
        "        emb_query, lb_ids_query, lb_cams_query = query_dict['embeddings'], query_dict['label_ids'], query_dict['label_cams']\n",
        "\n",
        "    ## compute and clean distance matrix\n",
        "    dist_mtx = pdist(emb_query, emb_gallery)\n",
        "    n_q, n_g = dist_mtx.shape\n",
        "    indices = np.argsort(dist_mtx, axis = 1)\n",
        "    matches = lb_ids_gallery[indices] == lb_ids_query[:, np.newaxis]\n",
        "    matches = matches.astype(np.int32)\n",
        "    all_aps = []\n",
        "    all_cmcs = []\n",
        "    logger.info('starting evaluating ...')\n",
        "    for qidx in tqdm(range(n_q)):\n",
        "        qpid = lb_ids_query[qidx]\n",
        "        qcam = lb_cams_query[qidx]\n",
        "\n",
        "        order = indices[qidx]\n",
        "        pid_diff = lb_ids_gallery[order] != qpid\n",
        "        cam_diff = lb_cams_gallery[order] != qcam\n",
        "        useful = lb_ids_gallery[order] != -1\n",
        "        keep = np.logical_or(pid_diff, cam_diff)\n",
        "        keep = np.logical_and(keep, useful)\n",
        "        match = matches[qidx][keep]\n",
        "\n",
        "        if not np.any(match): continue\n",
        "\n",
        "        cmc = match.cumsum()\n",
        "        cmc[cmc > 1] = 1\n",
        "        all_cmcs.append(cmc[:cmc_rank])\n",
        "\n",
        "        num_real = match.sum()\n",
        "        match_cum = match.cumsum()\n",
        "        match_cum = [el / (1.0 + i) for i, el in enumerate(match_cum)]\n",
        "        match_cum = np.array(match_cum) * match\n",
        "        ap = match_cum.sum() / num_real\n",
        "        all_aps.append(ap)\n",
        "\n",
        "    assert len(all_aps) > 0, \"NO QUERY MATCHED\"\n",
        "    mAP = sum(all_aps) / len(all_aps)\n",
        "    all_cmcs = np.array(all_cmcs, dtype = np.float32)\n",
        "    cmc = np.mean(all_cmcs, axis = 0)\n",
        "\n",
        "    print('mAP is: {}, cmc is: {}'.format(mAP, cmc))\n",
        "    return(cmc)"
      ],
      "execution_count": 0,
      "outputs": []
    },
    {
      "cell_type": "markdown",
      "metadata": {
        "id": "mwF8xwmNN64g",
        "colab_type": "text"
      },
      "source": [
        "## Visualize CMC"
      ]
    },
    {
      "cell_type": "code",
      "metadata": {
        "id": "ymUR3WWcroha",
        "colab_type": "code",
        "colab": {}
      },
      "source": [
        "import os\n",
        "import matplotlib.pyplot as plt\n",
        "import matplotlib.lines as mlines\n",
        "\n",
        "default_color = ['r','g','b','c','m','y','orange','brown']\n",
        "default_marker = ['*','o','s','v','X','*','.','P']\n",
        "\n",
        "class CMC:\n",
        "    def __init__(self,cmc_dict, color=default_color, marker = default_marker):\n",
        "        self.color = color\n",
        "        self.marker = marker\n",
        "        self.cmc_dict = cmc_dict\n",
        "        \n",
        "    def plot(self,title,rank=20, xlabel='Rank',ylabel='Matching Rates (%)',show_grid=True):        \n",
        "        fig, ax = plt.subplots()\n",
        "        fig.suptitle(title)\n",
        "        x = list(range(0, rank+1, 5))\n",
        "        plt.ylim(0.86, 1.0)\n",
        "        plt.xlim(1, rank)\n",
        "        plt.xlabel(xlabel)\n",
        "        plt.ylabel(ylabel)\n",
        "        plt.xticks(x)\n",
        "        plt.grid(show_grid)\n",
        "\n",
        "        method_name = []\n",
        "        i = 0\n",
        "        for name in self.cmc_dict.keys():\n",
        "            if rank < len(self.cmc_dict[name]):\n",
        "                temp_cmc = self.cmc_dict[name][:rank]\n",
        "                r = list(range(1, rank+1))\n",
        "            else:\n",
        "                temp_cmc = self.cmc_dict[name]\n",
        "                r = list(range(1, len(temp_cmc)+1))\n",
        "                \n",
        "            if name == list(self.cmc_dict.keys())[-1]:\n",
        "                globals()[name] = mlines.Line2D(r, temp_cmc, color=self.color[0], marker=self.marker[0], label='{:.1f}% {}'.format(self.cmc_dict[name][0]*100, name))\n",
        "            else:\n",
        "                globals()[name] = mlines.Line2D(r, temp_cmc, color=self.color[i+1], marker=self.marker[i+1], label='{:.1f}% {}'.format(self.cmc_dict[name][0]*100, name))\n",
        "                i = i+1\n",
        "            ax.add_line(globals()[name])\n",
        "            method_name.append(globals()[name])\n",
        "\n",
        "        plt.legend(handles=method_name)\n",
        "        plt.show()\n",
        "    \n",
        "    def save(self, title, filename, \n",
        "             rank=20, xlabel='Rank',\n",
        "             ylabel='Matching Rates (%)', show_grid=True,\n",
        "             save_path=os.getcwd(), format='png', **kwargs):\n",
        "        fig, ax = plt.subplots()\n",
        "        fig.suptitle(title)\n",
        "        x = list(range(0, rank+1, 5))\n",
        "        plt.ylim(0.86, 1.0)\n",
        "        plt.xlim(1, rank)\n",
        "        plt.xlabel(xlabel)\n",
        "        plt.ylabel(ylabel)\n",
        "        plt.xticks(x)\n",
        "        plt.grid(show_grid)\n",
        "\n",
        "        method_name = []\n",
        "        i = 0\n",
        "        for name in self.cmc_dict.keys():\n",
        "            if rank < len(self.cmc_dict[name]):\n",
        "                temp_cmc = self.cmc_dict[name][:rank]\n",
        "                r = list(range(1, rank+1))\n",
        "            else:\n",
        "                temp_cmc = self.cmc_dict[name]\n",
        "                r = list(range(1, len(temp_cmc)+1))\n",
        "                \n",
        "            if name == list(self.cmc_dict.keys())[-1]:\n",
        "                globals()[name] = mlines.Line2D(r, temp_cmc, color='r', marker='*', label='{:.1f}% {}'.format(self.cmc_dict[name][0]*100, name))\n",
        "            else:\n",
        "                globals()[name] = mlines.Line2D(r, temp_cmc, color=self.color[i], marker=self.marker[i], label='{:.1f}% {}'.format(self.cmc_dict[name][0]*100, name))\n",
        "                i = i+1\n",
        "            ax.add_line(globals()[name])\n",
        "            method_name.append(globals()[name])\n",
        "\n",
        "        plt.legend(handles=method_name)\n",
        "        fig.savefig(os.path.join(save_path,filename+'.'+format), \n",
        "                    format=format,\n",
        "                    bbox_inches='tight',\n",
        "                    pad_inches = 0, **kwargs)"
      ],
      "execution_count": 0,
      "outputs": []
    },
    {
      "cell_type": "code",
      "metadata": {
        "id": "5tRTbJSzN_Wv",
        "colab_type": "code",
        "colab": {}
      },
      "source": [
        "def all_cmcs(model_num, cmc_rank = 20):\n",
        "  test_embs = \"./res/emb_test{}.pkl\".format(model_num)\n",
        "  query_embs = \"./res/emb_query{}.pkl\".format(model_num)\n",
        "  model_ranks = evaluate(test_embs = test_embs, query_embs = query_embs, cmc_rank = cmc_rank)\n",
        "\n",
        "  return(model_ranks)\n"
      ],
      "execution_count": 0,
      "outputs": []
    },
    {
      "cell_type": "code",
      "metadata": {
        "id": "duWCZtepddpY",
        "colab_type": "code",
        "outputId": "326c5644-cb4a-4c95-cc55-450910e2f86f",
        "colab": {
          "base_uri": "https://localhost:8080/",
          "height": 357
        }
      },
      "source": [
        "model1_ranks = all_cmcs(model_num = 1)\n",
        "model6_ranks = all_cmcs(model_num = 6)\n",
        "model7_ranks = all_cmcs(model_num = 7)\n",
        "model8_ranks = all_cmcs(model_num = 8)"
      ],
      "execution_count": 0,
      "outputs": [
        {
          "output_type": "stream",
          "text": [
            "100%|██████████| 3368/3368 [01:52<00:00, 30.33it/s]\n"
          ],
          "name": "stderr"
        },
        {
          "output_type": "stream",
          "text": [
            "mAP is: 0.7632220459713979, cmc is: [0.88925177 0.9248812  0.9450713  0.9554632  0.96169835 0.966152\n",
            " 0.9682304  0.9700119  0.9726841  0.9750594  0.97684085 0.9783254\n",
            " 0.9801069  0.98070073 0.9809976  0.9809976  0.98218524 0.9833729\n",
            " 0.9833729  0.98396677]\n"
          ],
          "name": "stdout"
        },
        {
          "output_type": "stream",
          "text": [
            "100%|██████████| 3368/3368 [01:52<00:00, 28.67it/s]\n"
          ],
          "name": "stderr"
        },
        {
          "output_type": "stream",
          "text": [
            "mAP is: 0.7507753063839253, cmc is: [0.88182896 0.9162708  0.9334917  0.9435867  0.95190024 0.95961994\n",
            " 0.962886   0.9649644  0.9703088  0.9711995  0.9723872  0.9750594\n",
            " 0.97654396 0.9774347  0.9783254  0.97981    0.9804038  0.9809976\n",
            " 0.9812945  0.98218524]\n"
          ],
          "name": "stdout"
        },
        {
          "output_type": "stream",
          "text": [
            "100%|██████████| 3368/3368 [01:53<00:00, 29.76it/s]\n"
          ],
          "name": "stderr"
        },
        {
          "output_type": "stream",
          "text": [
            "mAP is: 0.7513740780773932, cmc is: [0.8871734  0.9236936  0.93705463 0.94804037 0.956057   0.96169835\n",
            " 0.9664489  0.96941805 0.97149646 0.9735748  0.976247   0.9774347\n",
            " 0.97981    0.9812945  0.9812945  0.98218524 0.9824822  0.9824822\n",
            " 0.9833729  0.98426366]\n"
          ],
          "name": "stdout"
        },
        {
          "output_type": "stream",
          "text": [
            "100%|██████████| 3368/3368 [01:51<00:00, 30.08it/s]\n"
          ],
          "name": "stderr"
        },
        {
          "output_type": "stream",
          "text": [
            "mAP is: 0.7417072430419447, cmc is: [0.8738124  0.91270787 0.9376485  0.9483373  0.9578385  0.96229213\n",
            " 0.9655582  0.9682304  0.9709026  0.9732779  0.97416866 0.97654396\n",
            " 0.9774347  0.9786223  0.97981    0.98070073 0.9812945  0.98159146\n",
            " 0.98218524 0.98307604]\n"
          ],
          "name": "stdout"
        }
      ]
    },
    {
      "cell_type": "code",
      "metadata": {
        "id": "jVZyDp3qkVNs",
        "colab_type": "code",
        "colab": {}
      },
      "source": [
        "model1_ranks = list(model1_ranks)\n",
        "model6_ranks = list(model6_ranks)\n",
        "model7_ranks = list(model7_ranks)\n",
        "model8_ranks = list(model8_ranks)"
      ],
      "execution_count": 0,
      "outputs": []
    },
    {
      "cell_type": "code",
      "metadata": {
        "id": "jjUpCbsQlrtt",
        "colab_type": "code",
        "colab": {}
      },
      "source": [
        "cmc_dict = {'Baseline': model1_ranks, 'Filter size 2': model7_ranks, \"Filter size 3\": model6_ranks, \"Filter size 5\": model8_ranks}\n",
        "new_color = ['r','g','b','c','m','y','orange','brown']\n",
        "new_marker = ['*','o','s','v','X','*','.','P']\n",
        "cmc = CMC(cmc_dict,color=new_color,marker=new_marker)"
      ],
      "execution_count": 0,
      "outputs": []
    },
    {
      "cell_type": "code",
      "metadata": {
        "id": "JQUY7FQ_sRkc",
        "colab_type": "code",
        "outputId": "46eb23eb-5122-4efa-eff3-d3f8a73d4acb",
        "colab": {
          "base_uri": "https://localhost:8080/",
          "height": 308
        }
      },
      "source": [
        "cmc.plot(title = \"CMC on baseline and Anti-Aliased models\", ylabel= \"Accuracy\", show_grid = False)\n"
      ],
      "execution_count": 0,
      "outputs": [
        {
          "output_type": "display_data",
          "data": {
            "image/png": "[encoded data removed]",
            "text/plain": [
              "<Figure size 432x288 with 1 Axes>"
            ]
          },
          "metadata": {
            "tags": []
          }
        }
      ]
    },
    {
      "cell_type": "code",
      "metadata": {
        "id": "zd4wwIqV9HC3",
        "colab_type": "code",
        "outputId": "e6852e81-163c-4736-c1ba-5a33d41fb7c7",
        "colab": {
          "base_uri": "https://localhost:8080/",
          "height": 308
        }
      },
      "source": [
        "cmc.save(title = 'CMC on baseline and Anti-Aliased models', filename='cmc_results',\n",
        "         rank=20,xlabel='Rank', ylabel='Accuracy', \n",
        "         show_grid=False, format='png')"
      ],
      "execution_count": 0,
      "outputs": [
        {
          "output_type": "display_data",
          "data": {
            "image/png": "[encoded data removed]",
            "text/plain": [
              "<Figure size 432x288 with 1 Axes>"
            ]
          },
          "metadata": {
            "tags": []
          }
        }
      ]
    }
  ]
}