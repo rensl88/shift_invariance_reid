{
  "nbformat": 4,
  "nbformat_minor": 0,
  "metadata": {
    "colab": {
      "name": "create hdf5 .ipynb",
      "provenance": [],
      "collapsed_sections": []
    },
    "kernelspec": {
      "name": "python3",
      "display_name": "Python 3"
    },
    "accelerator": "GPU"
  },
  "cells": [
    {
      "cell_type": "markdown",
      "metadata": {
        "id": "nQTooxqBVnEC",
        "colab_type": "text"
      },
      "source": [
        "# creating a hdf5 file"
      ]
    },
    {
      "cell_type": "code",
      "metadata": {
        "id": "3qQ8jceNVqA_",
        "colab_type": "code",
        "outputId": "40259e3b-d212-47f8-ff7e-9dd48b619811",
        "colab": {
          "base_uri": "https://localhost:8080/",
          "height": 65
        }
      },
      "source": [
        "# import packages\n",
        "import h5py\n",
        "import os\n",
        "import pandas as pd\n",
        "from google.colab import drive\n",
        "import cv2\n",
        "import datetime as dt\n",
        "import tensorflow as tf\n",
        "from PIL import Image\n",
        "import numpy as np\n"
      ],
      "execution_count": 0,
      "outputs": [
        {
          "output_type": "display_data",
          "data": {
            "text/html": [
              "<p style=\"color: red;\">\n",
              "The default version of TensorFlow in Colab will soon switch to TensorFlow 2.x.<br>\n",
              "We recommend you <a href=\"https://www.tensorflow.org/guide/migrate\" target=\"_blank\">upgrade</a> now \n",
              "or ensure your notebook will continue to use TensorFlow 1.x via the <code>%tensorflow_version 1.x</code> magic:\n",
              "<a href=\"https://colab.research.google.com/notebooks/tensorflow_version.ipynb\" target=\"_blank\">more info</a>.</p>\n"
            ],
            "text/plain": [
              "<IPython.core.display.HTML object>"
            ]
          },
          "metadata": {
            "tags": []
          }
        }
      ]
    },
    {
      "cell_type": "code",
      "metadata": {
        "id": "9rQWyA7HV5TH",
        "colab_type": "code",
        "outputId": "ea956251-5274-4f91-f672-3d0c7d10b4c1",
        "colab": {
          "base_uri": "https://localhost:8080/",
          "height": 128
        }
      },
      "source": [
        "drive.mount('/content/drive', force_remount=True)"
      ],
      "execution_count": 0,
      "outputs": [
        {
          "output_type": "stream",
          "text": [
            "Go to this URL in a browser: https://accounts.google.com/o/oauth2/auth?client_id=947318989803-6bn6qk8qdgf4n4g3pfee6491hc0brc4i.apps.googleusercontent.com&redirect_uri=urn%3Aietf%3Awg%3Aoauth%3A2.0%3Aoob&scope=email%20https%3A%2F%2Fwww.googleapis.com%2Fauth%2Fdocs.test%20https%3A%2F%2Fwww.googleapis.com%2Fauth%2Fdrive%20https%3A%2F%2Fwww.googleapis.com%2Fauth%2Fdrive.photos.readonly%20https%3A%2F%2Fwww.googleapis.com%2Fauth%2Fpeopleapi.readonly&response_type=code\n",
            "\n",
            "Enter your authorization code:\n",
            "··········\n",
            "Mounted at /content/drive\n"
          ],
          "name": "stdout"
        }
      ]
    },
    {
      "cell_type": "code",
      "metadata": {
        "id": "gbW2hUMBgR7R",
        "colab_type": "code",
        "colab": {}
      },
      "source": [
        "os.chdir(\"/content/drive/My Drive/Thesis re-id/triplet-reid-master\")\n"
      ],
      "execution_count": 0,
      "outputs": []
    },
    {
      "cell_type": "code",
      "metadata": {
        "id": "kiTsIM-cXZtS",
        "colab_type": "code",
        "colab": {}
      },
      "source": [
        "labels = pd.read_csv('data/market1501_train.csv', names = ['pid', 'fid'], header = None, dtype = str)"
      ],
      "execution_count": 0,
      "outputs": []
    },
    {
      "cell_type": "code",
      "metadata": {
        "id": "narxo6t2V65v",
        "colab_type": "code",
        "colab": {}
      },
      "source": [
        "num_images = len(labels)\n",
        "height = 128\n",
        "width = 64\n",
        "net_input_size = (128,64)\n",
        "channels = 3"
      ],
      "execution_count": 0,
      "outputs": []
    },
    {
      "cell_type": "code",
      "metadata": {
        "id": "12tJNterWP7o",
        "colab_type": "code",
        "colab": {}
      },
      "source": [
        "fileName = 'data_final.h5'"
      ],
      "execution_count": 0,
      "outputs": []
    },
    {
      "cell_type": "code",
      "metadata": {
        "id": "wqrLVu9sF8Xj",
        "colab_type": "code",
        "colab": {}
      },
      "source": [
        "#hdf5 original\n",
        "with h5py.File(fileName, \"w\") as out:\n",
        "  out.create_dataset(\"X_train\",(num_images,height,width,3),dtype='u1')\n",
        "  #out.create_dataset(\"Y_train\",(num_images,1,1),dtype='u1')      \n"
      ],
      "execution_count": 0,
      "outputs": []
    },
    {
      "cell_type": "code",
      "metadata": {
        "id": "14Iep0IMGExa",
        "colab_type": "code",
        "colab": {}
      },
      "source": [
        "with h5py.File(fileName, \"a\") as out:\n",
        "  for i, row in enumerate(labels.fid):\n",
        "    img = Image.open(\"images/Market1501/\" + labels.fid[i])  \n",
        "    out[\"X_train\"][i, ...] = np.asarray(img)\n",
        "    "
      ],
      "execution_count": 0,
      "outputs": []
    },
    {
      "cell_type": "markdown",
      "metadata": {
        "id": "CibtYoxmgcR9",
        "colab_type": "text"
      },
      "source": [
        "## Add Query and Test Images to another hdf5 file"
      ]
    },
    {
      "cell_type": "code",
      "metadata": {
        "id": "u7MhXGFXzI3S",
        "colab_type": "code",
        "colab": {}
      },
      "source": [
        "fileName_qt = 'data_qt.h5'"
      ],
      "execution_count": 0,
      "outputs": []
    },
    {
      "cell_type": "code",
      "metadata": {
        "id": "Gs9lyAzpgs9R",
        "colab_type": "code",
        "colab": {}
      },
      "source": [
        "labels_query = pd.read_csv('data/market1501_query.csv', names = ['pid', 'fid'], header = None, dtype = str)\n",
        "labels_test = pd.read_csv('data/market1501_test.csv', names = ['pid', 'fid'], header = None, dtype = str)"
      ],
      "execution_count": 0,
      "outputs": []
    },
    {
      "cell_type": "code",
      "metadata": {
        "id": "V7pRN6aIov-s",
        "colab_type": "code",
        "colab": {}
      },
      "source": [
        "num_query = len(labels_query)\n",
        "num_test = len(labels_test)\n"
      ],
      "execution_count": 0,
      "outputs": []
    },
    {
      "cell_type": "code",
      "metadata": {
        "id": "4NBLhh3mpkO7",
        "colab_type": "code",
        "colab": {}
      },
      "source": [
        "with h5py.File(fileName_qt, \"w\") as out:   \n",
        "  out.create_dataset(\"X_dev\",(num_query,height,width,3),dtype='u1')    \n",
        "  out.create_dataset(\"X_test\",(num_test,height,width,3),dtype='u1')"
      ],
      "execution_count": 0,
      "outputs": []
    },
    {
      "cell_type": "code",
      "metadata": {
        "id": "tC406_lDgh0K",
        "colab_type": "code",
        "colab": {}
      },
      "source": [
        "with h5py.File(fileName_qt, \"a\") as out:\n",
        "  for i, row in enumerate(labels_query.fid):\n",
        "    img = Image.open(\"images/Market1501/\" + labels_query.fid[i])\n",
        "    out[\"X_dev\"][i, ...] = np.asarray(img)\n",
        "  for i, row in enumerate(labels_test.fid):\n",
        "    img = Image.open(\"images/Market1501/\" + labels_test.fid[i])\n",
        "    out[\"X_test\"][i, ...] = np.asarray(img)"
      ],
      "execution_count": 0,
      "outputs": []
    }
  ]
}